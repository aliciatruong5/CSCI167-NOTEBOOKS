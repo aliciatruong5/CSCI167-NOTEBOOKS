{
  "nbformat": 4,
  "nbformat_minor": 0,
  "metadata": {
    "colab": {
      "provenance": [],
      "include_colab_link": true
    },
    "kernelspec": {
      "name": "python3",
      "display_name": "Python 3"
    },
    "language_info": {
      "name": "python"
    }
  },
  "cells": [
    {
      "cell_type": "markdown",
      "metadata": {
        "id": "view-in-github",
        "colab_type": "text"
      },
      "source": [
        "<a href=\"https://colab.research.google.com/github/aliciatruong5/CSCI167-NOTEBOOKS/blob/main/Notebooks/Chap10/10_2_Convolution_for_MNIST_1D.ipynb\" target=\"_parent\"><img src=\"https://colab.research.google.com/assets/colab-badge.svg\" alt=\"Open In Colab\"/></a>"
      ]
    },
    {
      "cell_type": "markdown",
      "source": [
        "# **Notebook 10.2: Convolution for MNIST-1D**\n",
        "\n",
        "This notebook investigates a 1D convolutional network for MNIST-1D as in figure 10.7 and 10.8a.\n",
        "\n",
        "Work through the cells below, running each cell in turn. In various places you will see the words \"TODO\". Follow the instructions at these places and make predictions about what is going to happen or write code to complete the functions.\n",
        "\n",
        "Contact me at udlbookmail@gmail.com if you find any mistakes or have any suggestions.\n",
        "\n"
      ],
      "metadata": {
        "id": "t9vk9Elugvmi"
      }
    },
    {
      "cell_type": "code",
      "source": [
        "# Run this if you're in a Colab to install MNIST 1D repository\n",
        "!pip install git+https://github.com/greydanus/mnist1d"
      ],
      "metadata": {
        "id": "D5yLObtZCi9J",
        "outputId": "f37373ed-07d4-4408-94a7-fbd93d7ace3c",
        "colab": {
          "base_uri": "https://localhost:8080/"
        }
      },
      "execution_count": 8,
      "outputs": [
        {
          "output_type": "stream",
          "name": "stdout",
          "text": [
            "Collecting git+https://github.com/greydanus/mnist1d\n",
            "  Cloning https://github.com/greydanus/mnist1d to /tmp/pip-req-build-k60f9ex2\n",
            "  Running command git clone --filter=blob:none --quiet https://github.com/greydanus/mnist1d /tmp/pip-req-build-k60f9ex2\n",
            "  Resolved https://github.com/greydanus/mnist1d to commit 7878d96082abd200c546a07a4101fa90b30fdf7e\n",
            "  Installing build dependencies ... \u001b[?25l\u001b[?25hdone\n",
            "  Getting requirements to build wheel ... \u001b[?25l\u001b[?25hdone\n",
            "  Preparing metadata (pyproject.toml) ... \u001b[?25l\u001b[?25hdone\n",
            "Requirement already satisfied: requests in /usr/local/lib/python3.12/dist-packages (from mnist1d==0.0.2.post16) (2.32.4)\n",
            "Requirement already satisfied: numpy in /usr/local/lib/python3.12/dist-packages (from mnist1d==0.0.2.post16) (2.0.2)\n",
            "Requirement already satisfied: matplotlib in /usr/local/lib/python3.12/dist-packages (from mnist1d==0.0.2.post16) (3.10.0)\n",
            "Requirement already satisfied: scipy in /usr/local/lib/python3.12/dist-packages (from mnist1d==0.0.2.post16) (1.16.2)\n",
            "Requirement already satisfied: contourpy>=1.0.1 in /usr/local/lib/python3.12/dist-packages (from matplotlib->mnist1d==0.0.2.post16) (1.3.3)\n",
            "Requirement already satisfied: cycler>=0.10 in /usr/local/lib/python3.12/dist-packages (from matplotlib->mnist1d==0.0.2.post16) (0.12.1)\n",
            "Requirement already satisfied: fonttools>=4.22.0 in /usr/local/lib/python3.12/dist-packages (from matplotlib->mnist1d==0.0.2.post16) (4.60.1)\n",
            "Requirement already satisfied: kiwisolver>=1.3.1 in /usr/local/lib/python3.12/dist-packages (from matplotlib->mnist1d==0.0.2.post16) (1.4.9)\n",
            "Requirement already satisfied: packaging>=20.0 in /usr/local/lib/python3.12/dist-packages (from matplotlib->mnist1d==0.0.2.post16) (25.0)\n",
            "Requirement already satisfied: pillow>=8 in /usr/local/lib/python3.12/dist-packages (from matplotlib->mnist1d==0.0.2.post16) (11.3.0)\n",
            "Requirement already satisfied: pyparsing>=2.3.1 in /usr/local/lib/python3.12/dist-packages (from matplotlib->mnist1d==0.0.2.post16) (3.2.5)\n",
            "Requirement already satisfied: python-dateutil>=2.7 in /usr/local/lib/python3.12/dist-packages (from matplotlib->mnist1d==0.0.2.post16) (2.9.0.post0)\n",
            "Requirement already satisfied: charset_normalizer<4,>=2 in /usr/local/lib/python3.12/dist-packages (from requests->mnist1d==0.0.2.post16) (3.4.4)\n",
            "Requirement already satisfied: idna<4,>=2.5 in /usr/local/lib/python3.12/dist-packages (from requests->mnist1d==0.0.2.post16) (3.11)\n",
            "Requirement already satisfied: urllib3<3,>=1.21.1 in /usr/local/lib/python3.12/dist-packages (from requests->mnist1d==0.0.2.post16) (2.5.0)\n",
            "Requirement already satisfied: certifi>=2017.4.17 in /usr/local/lib/python3.12/dist-packages (from requests->mnist1d==0.0.2.post16) (2025.10.5)\n",
            "Requirement already satisfied: six>=1.5 in /usr/local/lib/python3.12/dist-packages (from python-dateutil>=2.7->matplotlib->mnist1d==0.0.2.post16) (1.17.0)\n"
          ]
        }
      ]
    },
    {
      "cell_type": "code",
      "source": [
        "import numpy as np\n",
        "import os\n",
        "import torch, torch.nn as nn\n",
        "from torch.utils.data import TensorDataset, DataLoader\n",
        "from torch.optim.lr_scheduler import StepLR\n",
        "import matplotlib.pyplot as plt\n",
        "import mnist1d\n",
        "import random"
      ],
      "metadata": {
        "id": "YrXWAH7sUWvU"
      },
      "execution_count": 9,
      "outputs": []
    },
    {
      "cell_type": "code",
      "source": [
        "args = mnist1d.data.get_dataset_args()\n",
        "data = mnist1d.data.get_dataset(args, path='./mnist1d_data.pkl', download=False, regenerate=False)\n",
        "\n",
        "# The training and test input and outputs are in\n",
        "# data['x'], data['y'], data['x_test'], and data['y_test']\n",
        "print(\"Examples in training set: {}\".format(len(data['y'])))\n",
        "print(\"Examples in test set: {}\".format(len(data['y_test'])))\n",
        "print(\"Length of each example: {}\".format(data['x'].shape[-1]))"
      ],
      "metadata": {
        "id": "twI72ZCrCt5z",
        "outputId": "4f05c4b9-b3d1-49e3-86d7-50fb55db4836",
        "colab": {
          "base_uri": "https://localhost:8080/"
        }
      },
      "execution_count": 10,
      "outputs": [
        {
          "output_type": "stream",
          "name": "stdout",
          "text": [
            "Successfully loaded data from ./mnist1d_data.pkl\n",
            "Examples in training set: 4000\n",
            "Examples in test set: 1000\n",
            "Length of each example: 40\n"
          ]
        }
      ]
    },
    {
      "cell_type": "code",
      "source": [
        "# Load in the data\n",
        "train_data_x = data['x'].transpose()\n",
        "train_data_y = data['y']\n",
        "val_data_x = data['x_test'].transpose()\n",
        "val_data_y = data['y_test']\n",
        "# Print out sizes\n",
        "print(\"Train data: %d examples (columns), each of which has %d dimensions (rows)\"%((train_data_x.shape[1],train_data_x.shape[0])))\n",
        "print(\"Validation data: %d examples (columns), each of which has %d dimensions (rows)\"%((val_data_x.shape[1],val_data_x.shape[0])))"
      ],
      "metadata": {
        "id": "8bKADvLHbiV5",
        "outputId": "839164e6-754e-4fab-95cf-31752a3156b1",
        "colab": {
          "base_uri": "https://localhost:8080/"
        }
      },
      "execution_count": 11,
      "outputs": [
        {
          "output_type": "stream",
          "name": "stdout",
          "text": [
            "Train data: 4000 examples (columns), each of which has 40 dimensions (rows)\n",
            "Validation data: 1000 examples (columns), each of which has 40 dimensions (rows)\n"
          ]
        }
      ]
    },
    {
      "cell_type": "markdown",
      "source": [
        "Define the network"
      ],
      "metadata": {
        "id": "_sFvRDGrl4qe"
      }
    },
    {
      "cell_type": "code",
      "source": [
        "# There are 40 input dimensions and 10 output dimensions for this data\n",
        "# The inputs correspond to the 40 offsets in the MNIST1D template.\n",
        "D_i = 40\n",
        "# The outputs correspond to the 10 digits\n",
        "D_o = 10\n",
        "\n",
        "\n",
        "# TODO Create a model with the following layers\n",
        "# 1. Convolutional layer, (input=length 40 and 1 channel, kernel size 3, stride 2, padding=\"valid\", 15 output channels )\n",
        "# 2. ReLU\n",
        "# 3. Convolutional layer, (input=length 19 and 15 channels, kernel size 3, stride 2, padding=\"valid\", 15 output channels )\n",
        "# 4. ReLU\n",
        "# 5. Convolutional layer, (input=length 9 and 15 channels, kernel size 3, stride 2, padding=\"valid\", 15 output channels)\n",
        "# 6. ReLU\n",
        "# 7. Flatten (converts 4x15) to length 60\n",
        "# 8. Linear layer (input size = 60, output size = 10)\n",
        "# References:\n",
        "# https://pytorch.org/docs/1.13/generated/torch.nn.Conv1d.html?highlight=conv1d#torch.nn.Conv1d\n",
        "# https://pytorch.org/docs/stable/generated/torch.nn.Flatten.html\n",
        "# https://pytorch.org/docs/1.13/generated/torch.nn.Linear.html?highlight=linear#torch.nn.Linear\n",
        "\n",
        "# NOTE THAT THE CONVOLUTIONAL LAYERS NEED TO TAKE THE NUMBER OF INPUT CHANNELS AS A PARAMETER\n",
        "# AND NOT THE INPUT SIZE.\n",
        "\n",
        "# Replace the following function:\n",
        "model = nn.Sequential(\n",
        "    nn.Conv1d(in_channels=1, out_channels=15, kernel_size=3, stride=2, padding=0),\n",
        "    nn.ReLU(),\n",
        "    nn.Conv1d(in_channels=15, out_channels=15, kernel_size=3, stride=2, padding=0),\n",
        "    nn.ReLU(),\n",
        "    nn.Conv1d(in_channels=15, out_channels=15, kernel_size=3, stride=2, padding=0),\n",
        "    nn.ReLU(),\n",
        "    nn.Flatten(),\n",
        "    nn.Linear(60, 10)\n",
        ")\n",
        "\n",
        "\n",
        "\n"
      ],
      "metadata": {
        "id": "FslroPJJffrh"
      },
      "execution_count": 12,
      "outputs": []
    },
    {
      "cell_type": "code",
      "source": [
        "# He initialization of weights\n",
        "def weights_init(layer_in):\n",
        "  if isinstance(layer_in, nn.Linear):\n",
        "    nn.init.kaiming_uniform_(layer_in.weight)\n",
        "    layer_in.bias.data.fill_(0.0)"
      ],
      "metadata": {
        "id": "YgLaex1pfhqz"
      },
      "execution_count": 13,
      "outputs": []
    },
    {
      "cell_type": "code",
      "source": [
        "# choose cross entropy loss function (equation 5.24 in the loss notes)\n",
        "loss_function = nn.CrossEntropyLoss()\n",
        "# construct SGD optimizer and initialize learning rate and momentum\n",
        "optimizer = torch.optim.SGD(model.parameters(), lr = 0.05, momentum=0.9)\n",
        "# object that decreases learning rate by half every 20 epochs\n",
        "scheduler = StepLR(optimizer, step_size=20, gamma=0.5)\n",
        "# create 100 dummy data points and store in data loader class\n",
        "x_train = torch.tensor(train_data_x.transpose().astype('float32'))\n",
        "y_train = torch.tensor(train_data_y.astype('long')).long()\n",
        "x_val= torch.tensor(val_data_x.transpose().astype('float32'))\n",
        "y_val = torch.tensor(val_data_y.astype('long')).long()\n",
        "\n",
        "# load the data into a class that creates the batches\n",
        "data_loader = DataLoader(TensorDataset(x_train,y_train), batch_size=100, shuffle=True, worker_init_fn=np.random.seed(1))\n",
        "\n",
        "# Initialize model weights\n",
        "model.apply(weights_init)\n",
        "\n",
        "# loop over the dataset n_epoch times\n",
        "n_epoch = 100\n",
        "# store the loss and the % correct at each epoch\n",
        "losses_train = np.zeros((n_epoch))\n",
        "errors_train = np.zeros((n_epoch))\n",
        "losses_val = np.zeros((n_epoch))\n",
        "errors_val = np.zeros((n_epoch))\n",
        "\n",
        "for epoch in range(n_epoch):\n",
        "  # loop over batches\n",
        "  for i, data in enumerate(data_loader):\n",
        "    # retrieve inputs and labels for this batch\n",
        "    x_batch, y_batch = data\n",
        "    # zero the parameter gradients\n",
        "    optimizer.zero_grad()\n",
        "    # forward pass -- calculate model output\n",
        "    pred = model(x_batch[:,None,:])\n",
        "    # compute the loss\n",
        "    loss = loss_function(pred, y_batch)\n",
        "    # backward pass\n",
        "    loss.backward()\n",
        "    # SGD update\n",
        "    optimizer.step()\n",
        "\n",
        "  # Run whole dataset to get statistics -- normally wouldn't do this\n",
        "  pred_train = model(x_train[:,None,:])\n",
        "  pred_val = model(x_val[:,None,:])\n",
        "  _, predicted_train_class = torch.max(pred_train.data, 1)\n",
        "  _, predicted_val_class = torch.max(pred_val.data, 1)\n",
        "  errors_train[epoch] = 100 - 100 * (predicted_train_class == y_train).float().sum() / len(y_train)\n",
        "  errors_val[epoch]= 100 - 100 * (predicted_val_class == y_val).float().sum() / len(y_val)\n",
        "  losses_train[epoch] = loss_function(pred_train, y_train).item()\n",
        "  losses_val[epoch]= loss_function(pred_val, y_val).item()\n",
        "  print(f'Epoch {epoch:5d}, train loss {losses_train[epoch]:.6f}, train error {errors_train[epoch]:3.2f},  val loss {losses_val[epoch]:.6f}, percent error {errors_val[epoch]:3.2f}')\n",
        "\n",
        "  # tell scheduler to consider updating learning rate\n",
        "  scheduler.step()\n",
        "\n",
        "# Plot the results\n",
        "fig, ax = plt.subplots()\n",
        "ax.plot(errors_train,'r-',label='train')\n",
        "ax.plot(errors_val,'b-',label='validation')\n",
        "ax.set_ylim(0,100); ax.set_xlim(0,n_epoch)\n",
        "ax.set_xlabel('Epoch'); ax.set_ylabel('Error')\n",
        "ax.set_title('Part I: Validation Result %3.2f'%(errors_val[-1]))\n",
        "ax.legend()\n",
        "plt.show()"
      ],
      "metadata": {
        "id": "NYw8I_3mmX5c",
        "outputId": "033ddadf-cab1-4ee4-8ebb-919c2204d87d",
        "colab": {
          "base_uri": "https://localhost:8080/",
          "height": 1000
        }
      },
      "execution_count": 14,
      "outputs": [
        {
          "output_type": "stream",
          "name": "stdout",
          "text": [
            "Epoch     0, train loss 1.955775, train error 75.70,  val loss 1.971160, percent error 79.10\n",
            "Epoch     1, train loss 1.547520, train error 61.40,  val loss 1.578628, percent error 63.40\n",
            "Epoch     2, train loss 1.355869, train error 52.80,  val loss 1.370581, percent error 58.30\n",
            "Epoch     3, train loss 1.215045, train error 48.10,  val loss 1.217903, percent error 49.10\n",
            "Epoch     4, train loss 1.198805, train error 49.62,  val loss 1.203053, percent error 49.40\n",
            "Epoch     5, train loss 1.086965, train error 45.15,  val loss 1.109059, percent error 47.20\n",
            "Epoch     6, train loss 0.996762, train error 38.47,  val loss 1.022305, percent error 41.10\n",
            "Epoch     7, train loss 0.925585, train error 35.05,  val loss 0.957283, percent error 38.50\n",
            "Epoch     8, train loss 0.869397, train error 34.55,  val loss 0.921963, percent error 38.60\n",
            "Epoch     9, train loss 0.754266, train error 29.68,  val loss 0.822634, percent error 33.10\n",
            "Epoch    10, train loss 0.633096, train error 23.90,  val loss 0.716305, percent error 28.60\n",
            "Epoch    11, train loss 0.636345, train error 25.65,  val loss 0.770275, percent error 30.70\n",
            "Epoch    12, train loss 0.613024, train error 25.07,  val loss 0.761457, percent error 29.30\n",
            "Epoch    13, train loss 0.521036, train error 21.22,  val loss 0.656685, percent error 23.90\n",
            "Epoch    14, train loss 0.480871, train error 18.90,  val loss 0.639018, percent error 23.70\n",
            "Epoch    15, train loss 0.441062, train error 16.10,  val loss 0.584892, percent error 21.70\n",
            "Epoch    16, train loss 0.408781, train error 15.07,  val loss 0.553439, percent error 19.90\n",
            "Epoch    17, train loss 0.437054, train error 16.72,  val loss 0.601226, percent error 20.70\n",
            "Epoch    18, train loss 0.377215, train error 14.00,  val loss 0.553195, percent error 20.40\n",
            "Epoch    19, train loss 0.365600, train error 12.45,  val loss 0.516454, percent error 17.10\n",
            "Epoch    20, train loss 0.244469, train error 8.28,  val loss 0.417266, percent error 14.70\n",
            "Epoch    21, train loss 0.223177, train error 7.55,  val loss 0.410921, percent error 14.20\n",
            "Epoch    22, train loss 0.230081, train error 7.88,  val loss 0.431920, percent error 15.30\n",
            "Epoch    23, train loss 0.209224, train error 6.90,  val loss 0.403971, percent error 14.40\n",
            "Epoch    24, train loss 0.210848, train error 7.68,  val loss 0.453978, percent error 15.90\n",
            "Epoch    25, train loss 0.176856, train error 5.70,  val loss 0.362701, percent error 12.40\n",
            "Epoch    26, train loss 0.217136, train error 7.55,  val loss 0.426051, percent error 13.30\n",
            "Epoch    27, train loss 0.168991, train error 5.93,  val loss 0.417203, percent error 13.20\n",
            "Epoch    28, train loss 0.156774, train error 5.60,  val loss 0.380151, percent error 11.60\n",
            "Epoch    29, train loss 0.143177, train error 4.90,  val loss 0.368467, percent error 11.80\n",
            "Epoch    30, train loss 0.154160, train error 5.18,  val loss 0.381118, percent error 11.40\n",
            "Epoch    31, train loss 0.143271, train error 4.82,  val loss 0.420633, percent error 12.70\n",
            "Epoch    32, train loss 0.127702, train error 4.40,  val loss 0.362410, percent error 10.60\n",
            "Epoch    33, train loss 0.133535, train error 5.07,  val loss 0.408093, percent error 12.20\n",
            "Epoch    34, train loss 0.114284, train error 3.82,  val loss 0.379271, percent error 11.40\n",
            "Epoch    35, train loss 0.110343, train error 3.70,  val loss 0.390667, percent error 11.40\n",
            "Epoch    36, train loss 0.119424, train error 4.22,  val loss 0.410915, percent error 11.80\n",
            "Epoch    37, train loss 0.090816, train error 3.03,  val loss 0.409113, percent error 11.90\n",
            "Epoch    38, train loss 0.116106, train error 4.20,  val loss 0.433750, percent error 12.20\n",
            "Epoch    39, train loss 0.115361, train error 4.20,  val loss 0.456201, percent error 12.20\n",
            "Epoch    40, train loss 0.072884, train error 1.97,  val loss 0.387099, percent error 10.70\n",
            "Epoch    41, train loss 0.073534, train error 2.40,  val loss 0.419414, percent error 11.50\n",
            "Epoch    42, train loss 0.064508, train error 1.53,  val loss 0.390875, percent error 11.00\n",
            "Epoch    43, train loss 0.063033, train error 1.40,  val loss 0.403177, percent error 10.80\n",
            "Epoch    44, train loss 0.061767, train error 1.45,  val loss 0.392578, percent error 10.10\n",
            "Epoch    45, train loss 0.060843, train error 1.55,  val loss 0.432314, percent error 11.50\n",
            "Epoch    46, train loss 0.058651, train error 1.30,  val loss 0.408828, percent error 10.50\n",
            "Epoch    47, train loss 0.059094, train error 1.45,  val loss 0.413551, percent error 10.40\n",
            "Epoch    48, train loss 0.057664, train error 1.55,  val loss 0.426116, percent error 10.20\n",
            "Epoch    49, train loss 0.052474, train error 1.18,  val loss 0.433519, percent error 10.60\n",
            "Epoch    50, train loss 0.052663, train error 1.12,  val loss 0.435838, percent error 11.20\n",
            "Epoch    51, train loss 0.052664, train error 1.18,  val loss 0.446104, percent error 10.90\n",
            "Epoch    52, train loss 0.046780, train error 0.90,  val loss 0.450081, percent error 11.00\n",
            "Epoch    53, train loss 0.048100, train error 1.15,  val loss 0.452066, percent error 11.30\n",
            "Epoch    54, train loss 0.047935, train error 0.97,  val loss 0.448542, percent error 10.70\n",
            "Epoch    55, train loss 0.044561, train error 0.75,  val loss 0.447783, percent error 10.60\n",
            "Epoch    56, train loss 0.044332, train error 0.95,  val loss 0.469900, percent error 11.20\n",
            "Epoch    57, train loss 0.046144, train error 1.00,  val loss 0.476316, percent error 10.80\n",
            "Epoch    58, train loss 0.041613, train error 0.80,  val loss 0.476356, percent error 11.00\n",
            "Epoch    59, train loss 0.046066, train error 1.03,  val loss 0.487754, percent error 11.30\n",
            "Epoch    60, train loss 0.037618, train error 0.60,  val loss 0.471923, percent error 10.80\n",
            "Epoch    61, train loss 0.036229, train error 0.50,  val loss 0.478565, percent error 10.60\n",
            "Epoch    62, train loss 0.035186, train error 0.55,  val loss 0.479216, percent error 10.90\n",
            "Epoch    63, train loss 0.034959, train error 0.55,  val loss 0.489492, percent error 10.90\n",
            "Epoch    64, train loss 0.034810, train error 0.45,  val loss 0.487866, percent error 11.10\n",
            "Epoch    65, train loss 0.033826, train error 0.40,  val loss 0.493258, percent error 11.80\n",
            "Epoch    66, train loss 0.033773, train error 0.43,  val loss 0.489992, percent error 10.60\n",
            "Epoch    67, train loss 0.033592, train error 0.40,  val loss 0.495143, percent error 11.10\n",
            "Epoch    68, train loss 0.034056, train error 0.47,  val loss 0.503590, percent error 11.20\n",
            "Epoch    69, train loss 0.033225, train error 0.50,  val loss 0.501378, percent error 11.40\n",
            "Epoch    70, train loss 0.033131, train error 0.55,  val loss 0.495282, percent error 10.90\n",
            "Epoch    71, train loss 0.032069, train error 0.30,  val loss 0.516086, percent error 11.40\n",
            "Epoch    72, train loss 0.031027, train error 0.32,  val loss 0.502827, percent error 11.10\n",
            "Epoch    73, train loss 0.032822, train error 0.43,  val loss 0.501727, percent error 10.70\n",
            "Epoch    74, train loss 0.030595, train error 0.30,  val loss 0.508311, percent error 11.40\n",
            "Epoch    75, train loss 0.029818, train error 0.28,  val loss 0.511311, percent error 10.70\n",
            "Epoch    76, train loss 0.030248, train error 0.32,  val loss 0.531538, percent error 11.70\n",
            "Epoch    77, train loss 0.031366, train error 0.43,  val loss 0.538860, percent error 11.70\n",
            "Epoch    78, train loss 0.029948, train error 0.32,  val loss 0.526461, percent error 11.70\n",
            "Epoch    79, train loss 0.029097, train error 0.30,  val loss 0.522534, percent error 10.70\n",
            "Epoch    80, train loss 0.027825, train error 0.22,  val loss 0.522386, percent error 11.00\n",
            "Epoch    81, train loss 0.027765, train error 0.28,  val loss 0.529618, percent error 11.40\n",
            "Epoch    82, train loss 0.027768, train error 0.22,  val loss 0.526565, percent error 11.00\n",
            "Epoch    83, train loss 0.027661, train error 0.18,  val loss 0.526768, percent error 11.10\n",
            "Epoch    84, train loss 0.027130, train error 0.25,  val loss 0.529188, percent error 11.10\n",
            "Epoch    85, train loss 0.026865, train error 0.18,  val loss 0.535143, percent error 11.30\n",
            "Epoch    86, train loss 0.026605, train error 0.22,  val loss 0.535236, percent error 11.30\n",
            "Epoch    87, train loss 0.027202, train error 0.35,  val loss 0.539494, percent error 11.20\n",
            "Epoch    88, train loss 0.026779, train error 0.30,  val loss 0.540850, percent error 11.60\n",
            "Epoch    89, train loss 0.026370, train error 0.20,  val loss 0.541209, percent error 11.30\n",
            "Epoch    90, train loss 0.026071, train error 0.18,  val loss 0.542904, percent error 11.20\n",
            "Epoch    91, train loss 0.026019, train error 0.20,  val loss 0.538935, percent error 11.20\n",
            "Epoch    92, train loss 0.026102, train error 0.20,  val loss 0.537319, percent error 11.20\n",
            "Epoch    93, train loss 0.025718, train error 0.25,  val loss 0.546938, percent error 11.30\n",
            "Epoch    94, train loss 0.025397, train error 0.18,  val loss 0.543515, percent error 11.30\n",
            "Epoch    95, train loss 0.025673, train error 0.20,  val loss 0.549039, percent error 11.50\n",
            "Epoch    96, train loss 0.025723, train error 0.22,  val loss 0.548809, percent error 11.60\n",
            "Epoch    97, train loss 0.024927, train error 0.18,  val loss 0.549588, percent error 11.40\n",
            "Epoch    98, train loss 0.024862, train error 0.18,  val loss 0.553662, percent error 11.60\n",
            "Epoch    99, train loss 0.024732, train error 0.15,  val loss 0.549586, percent error 11.30\n"
          ]
        },
        {
          "output_type": "display_data",
          "data": {
            "text/plain": [
              "<Figure size 640x480 with 1 Axes>"
            ],
            "image/png": "[encoded data removed]"
          },
          "metadata": {}
        }
      ]
    }
  ]
}